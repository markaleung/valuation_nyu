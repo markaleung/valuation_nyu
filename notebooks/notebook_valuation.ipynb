{
 "cells": [
  {
   "cell_type": "code",
   "execution_count": null,
   "metadata": {},
   "outputs": [],
   "source": [
    "import chdir\n",
    "from classes import manager"
   ]
  },
  {
   "cell_type": "code",
   "execution_count": null,
   "metadata": {},
   "outputs": [],
   "source": [
    "manager_ = manager.Manager()\n",
    "# Only configs for master inputs are shown\n",
    "manager_.config.growth_start = 0.24\n",
    "manager_.config.cost_capital_start = 0.0965 * 2/3 + 0.1116 * 1/3\n",
    "manager_.config.sales_capital_start = 4\n",
    "manager_.config.margin_target = 0.16\n",
    "manager_.main()\n",
    "print('equity =', manager_.final.equity)\n",
    "print('price =', manager_.final.share_price)"
   ]
  },
  {
   "cell_type": "code",
   "execution_count": null,
   "metadata": {},
   "outputs": [],
   "source": []
  }
 ],
 "metadata": {
  "kernelspec": {
   "display_name": "venv_mark",
   "language": "python",
   "name": "python3"
  },
  "language_info": {
   "codemirror_mode": {
    "name": "ipython",
    "version": 3
   },
   "file_extension": ".py",
   "mimetype": "text/x-python",
   "name": "python",
   "nbconvert_exporter": "python",
   "pygments_lexer": "ipython3",
   "version": "3.10.9"
  }
 },
 "nbformat": 4,
 "nbformat_minor": 2
}
